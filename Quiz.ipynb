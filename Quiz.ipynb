{
  "nbformat": 4,
  "nbformat_minor": 0,
  "metadata": {
    "colab": {
      "provenance": []
    },
    "kernelspec": {
      "name": "python3",
      "display_name": "Python 3"
    },
    "language_info": {
      "name": "python"
    }
  },
  "cells": [
    {
      "cell_type": "code",
      "execution_count": 14,
      "metadata": {
        "id": "AaghXzCoC4QN"
      },
      "outputs": [],
      "source": [
        "Ques=[\n",
        "    {\n",
        "        \"question\":\"Which of the three banks will be merged with the other two to create India’s third-largest bank?\",\n",
        "        \"options\":[\"A) Punjab National Bank\",\"B) Indian Bank\",\"C) Bank of Baroda\",\"D) Dena Bank\"],\n",
        "        \"answer\":\"B\"\n",
        "    },\n",
        "    {\n",
        "        \"question\":\"What is the name of the weak zone of the earth’s crust?\",\n",
        "        \"options\":[\"A) Seismic\", \"B) Cosmic\" ,\"C) Formic\",\"D) Anaemic\"],\n",
        "        \"answer\":\"A\"\n",
        "    },\n",
        "    {\n",
        "        \"question\":\"Where was India’s first national Museum opened?\",\n",
        "        \"options\":[\"A) Delhi\",\"B) Hyderabad\",\"C)Rajasthan\" ,\"D)Mumbai\"],\n",
        "        \"answer\":\"D\"\n",
        "    },\n",
        "    {\n",
        "        \"question\":\"In 2019, Which popular singer was awarded the Bharat Ratna award?\",\n",
        "        \"options\":[\"A) Lata Mangeshkar\",\"B) Asha Bhosle\",\"C) Bhupen Hazarika\",\"D) Manna Dey\" ],\n",
        "        \"answer\":\"C\"\n",
        "    },\n",
        "    {\n",
        "        \"question\":\"The world’s nation 5G mobile network was launched by which country?\",\n",
        "        \"options\":[\"A) Japan\",\"B) Asia\",\"C) South Korea\",\"D) Malaysia\" ],\n",
        "        \"answer\":\"C\"\n",
        "    }\n",
        "]"
      ]
    },
    {
      "cell_type": "code",
      "source": [
        "def quiz(Ques):\n",
        "  Name=input(\"Enter your name:\")\n",
        "  score = 0\n",
        "  for i in Ques:\n",
        "    print(i[\"question\"])\n",
        "    for op in i[\"options\"]:\n",
        "      print(op)\n",
        "    ans = input(\"Enter the correct option (A, B, C, D): \").upper()\n",
        "    if ans == i[\"answer\"]:\n",
        "      print(\"Correct!\\n\")\n",
        "      score += 1\n",
        "    else:\n",
        "      print(f\"Wrong! The correct answer was {i['answer']}.\\n\")\n",
        "  print(f\"{Name}'s final score is: {score} out of {len(Ques)}\")\n",
        "quiz(Ques)"
      ],
      "metadata": {
        "colab": {
          "base_uri": "https://localhost:8080/"
        },
        "id": "0e4sjksBFtO5",
        "outputId": "f4cc89d6-ab21-40ae-9f53-32eb130dbeb7",
        "collapsed": true
      },
      "execution_count": 15,
      "outputs": [
        {
          "output_type": "stream",
          "name": "stdout",
          "text": [
            "Enter your name:XXX\n",
            "Which of the three banks will be merged with the other two to create India’s third-largest bank?\n",
            "A) Punjab National Bank\n",
            "B) Indian Bank\n",
            "C) Bank of Baroda\n",
            "D) Dena Bank\n",
            "Enter the correct option (A, B, C, D): B\n",
            "Correct!\n",
            "\n",
            "What is the name of the weak zone of the earth’s crust?\n",
            "A) Seismic\n",
            "B) Cosmic\n",
            "C) Formic\n",
            "D) Anaemic\n",
            "Enter the correct option (A, B, C, D): A\n",
            "Correct!\n",
            "\n",
            "Where was India’s first national Museum opened?\n",
            "A) Delhi\n",
            "B) Hyderabad\n",
            "C)Rajasthan\n",
            "D)Mumbai\n",
            "Enter the correct option (A, B, C, D): C\n",
            "Wrong! The correct answer was D.\n",
            "\n",
            "In 2019, Which popular singer was awarded the Bharat Ratna award?\n",
            "A) Lata Mangeshkar\n",
            "B) Asha Bhosle\n",
            "C) Bhupen Hazarika\n",
            "D) Manna Dey\n",
            "Enter the correct option (A, B, C, D): C\n",
            "Correct!\n",
            "\n",
            "The world’s nation 5G mobile network was launched by which country?\n",
            "A) Japan\n",
            "B) Asia\n",
            "C) South Korea\n",
            "D) Malaysia\n",
            "Enter the correct option (A, B, C, D): B\n",
            "Wrong! The correct answer was C.\n",
            "\n",
            "XXX's final score is: 3 out of 5\n"
          ]
        }
      ]
    }
  ]
}